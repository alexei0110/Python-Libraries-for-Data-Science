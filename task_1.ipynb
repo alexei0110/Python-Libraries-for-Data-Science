{
 "cells": [
  {
   "cell_type": "code",
   "execution_count": 1,
   "id": "ed1534bf",
   "metadata": {},
   "outputs": [],
   "source": [
    "import numpy as np"
   ]
  },
  {
   "cell_type": "code",
   "execution_count": 6,
   "id": "5a362ac1",
   "metadata": {},
   "outputs": [
    {
     "data": {
      "text/plain": [
       "array([2. , 8.4])"
      ]
     },
     "execution_count": 6,
     "metadata": {},
     "output_type": "execute_result"
    }
   ],
   "source": [
    "#1\n",
    "a = np.array([[1, 6], \n",
    "              [2, 8], \n",
    "              [3, 11], \n",
    "              [3, 10], \n",
    "              [1, 7]])\n",
    "mean_a = a.mean(axis = 0)\n",
    "mean_a"
   ]
  },
  {
   "cell_type": "code",
   "execution_count": 7,
   "id": "7f9354a4",
   "metadata": {},
   "outputs": [
    {
     "data": {
      "text/plain": [
       "array([[-1. , -2.4],\n",
       "       [ 0. , -0.4],\n",
       "       [ 1. ,  2.6],\n",
       "       [ 1. ,  1.6],\n",
       "       [-1. , -1.4]])"
      ]
     },
     "execution_count": 7,
     "metadata": {},
     "output_type": "execute_result"
    }
   ],
   "source": [
    "#2\n",
    "a_centered = np.subtract(a, mean_a)\n",
    "a_centered"
   ]
  },
  {
   "cell_type": "code",
   "execution_count": 16,
   "id": "ff5fad6a",
   "metadata": {},
   "outputs": [
    {
     "data": {
      "text/plain": [
       "8.0"
      ]
     },
     "execution_count": 16,
     "metadata": {},
     "output_type": "execute_result"
    }
   ],
   "source": [
    "#3\n",
    "a1 = a_centered[:,0]\n",
    "a2 = a_centered[:,1]\n",
    "a_centered_sp = np.dot(a1,a2)\n",
    "a_centered_sp"
   ]
  },
  {
   "cell_type": "code",
   "execution_count": 19,
   "id": "40591b7f",
   "metadata": {},
   "outputs": [
    {
     "data": {
      "text/plain": [
       "2.0"
      ]
     },
     "execution_count": 19,
     "metadata": {},
     "output_type": "execute_result"
    }
   ],
   "source": [
    "N = a.shape[0]\n",
    "cov_1 = a_centered_sp/(N-1)\n",
    "cov_1"
   ]
  },
  {
   "cell_type": "code",
   "execution_count": 20,
   "id": "d1630872",
   "metadata": {},
   "outputs": [
    {
     "data": {
      "text/plain": [
       "array([[1. , 2. ],\n",
       "       [2. , 4.3]])"
      ]
     },
     "execution_count": 20,
     "metadata": {},
     "output_type": "execute_result"
    }
   ],
   "source": [
    "#4\n",
    "cov_2 = np.cov(a.transpose())\n",
    "cov_2"
   ]
  },
  {
   "cell_type": "code",
   "execution_count": null,
   "id": "b152e54a",
   "metadata": {},
   "outputs": [],
   "source": []
  }
 ],
 "metadata": {
  "kernelspec": {
   "display_name": "Python 3 (ipykernel)",
   "language": "python",
   "name": "python3"
  },
  "language_info": {
   "codemirror_mode": {
    "name": "ipython",
    "version": 3
   },
   "file_extension": ".py",
   "mimetype": "text/x-python",
   "name": "python",
   "nbconvert_exporter": "python",
   "pygments_lexer": "ipython3",
   "version": "3.9.7"
  }
 },
 "nbformat": 4,
 "nbformat_minor": 5
}
